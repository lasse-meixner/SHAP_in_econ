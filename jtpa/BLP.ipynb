{
 "cells": [
  {
   "cell_type": "markdown",
   "metadata": {},
   "source": [
    "Fitting the best linear predictor BLP for the JPTA data to test for heterogeneity.\n",
    "\n",
    "First, we need models for the baseline functions that "
   ]
  },
  {
   "cell_type": "code",
   "execution_count": 21,
   "metadata": {},
   "outputs": [
    {
     "data": {
      "text/html": [
       "<div>\n",
       "<style scoped>\n",
       "    .dataframe tbody tr th:only-of-type {\n",
       "        vertical-align: middle;\n",
       "    }\n",
       "\n",
       "    .dataframe tbody tr th {\n",
       "        vertical-align: top;\n",
       "    }\n",
       "\n",
       "    .dataframe thead th {\n",
       "        text-align: right;\n",
       "    }\n",
       "</style>\n",
       "<table border=\"1\" class=\"dataframe\">\n",
       "  <thead>\n",
       "    <tr style=\"text-align: right;\">\n",
       "      <th></th>\n",
       "      <th>recid</th>\n",
       "      <th>radate</th>\n",
       "      <th>assignmt</th>\n",
       "      <th>site</th>\n",
       "      <th>training</th>\n",
       "      <th>afdc</th>\n",
       "      <th>sex</th>\n",
       "      <th>class_tr</th>\n",
       "      <th>ojt_jsa</th>\n",
       "      <th>oth_serv</th>\n",
       "      <th>...</th>\n",
       "      <th>hsorged</th>\n",
       "      <th>black</th>\n",
       "      <th>hispanic</th>\n",
       "      <th>age2225</th>\n",
       "      <th>age2629</th>\n",
       "      <th>age3035</th>\n",
       "      <th>age3644</th>\n",
       "      <th>age4554</th>\n",
       "      <th>f2sms</th>\n",
       "      <th>wkless13</th>\n",
       "    </tr>\n",
       "  </thead>\n",
       "  <tbody>\n",
       "    <tr>\n",
       "      <th>0</th>\n",
       "      <td>300001</td>\n",
       "      <td>05/16/89</td>\n",
       "      <td>1</td>\n",
       "      <td>NE</td>\n",
       "      <td>1</td>\n",
       "      <td>0</td>\n",
       "      <td>0</td>\n",
       "      <td>0</td>\n",
       "      <td>0</td>\n",
       "      <td>1</td>\n",
       "      <td>...</td>\n",
       "      <td>1.0</td>\n",
       "      <td>1</td>\n",
       "      <td>0</td>\n",
       "      <td>0</td>\n",
       "      <td>0</td>\n",
       "      <td>0</td>\n",
       "      <td>0</td>\n",
       "      <td>1</td>\n",
       "      <td>0</td>\n",
       "      <td>1.0</td>\n",
       "    </tr>\n",
       "    <tr>\n",
       "      <th>1</th>\n",
       "      <td>300002</td>\n",
       "      <td>08/30/89</td>\n",
       "      <td>1</td>\n",
       "      <td>LC</td>\n",
       "      <td>1</td>\n",
       "      <td>0</td>\n",
       "      <td>0</td>\n",
       "      <td>0</td>\n",
       "      <td>0</td>\n",
       "      <td>1</td>\n",
       "      <td>...</td>\n",
       "      <td>1.0</td>\n",
       "      <td>0</td>\n",
       "      <td>0</td>\n",
       "      <td>1</td>\n",
       "      <td>0</td>\n",
       "      <td>0</td>\n",
       "      <td>0</td>\n",
       "      <td>0</td>\n",
       "      <td>0</td>\n",
       "      <td>0.0</td>\n",
       "    </tr>\n",
       "    <tr>\n",
       "      <th>2</th>\n",
       "      <td>300006</td>\n",
       "      <td>08/18/88</td>\n",
       "      <td>1</td>\n",
       "      <td>HF</td>\n",
       "      <td>0</td>\n",
       "      <td>0</td>\n",
       "      <td>0</td>\n",
       "      <td>1</td>\n",
       "      <td>0</td>\n",
       "      <td>0</td>\n",
       "      <td>...</td>\n",
       "      <td>1.0</td>\n",
       "      <td>0</td>\n",
       "      <td>1</td>\n",
       "      <td>0</td>\n",
       "      <td>0</td>\n",
       "      <td>1</td>\n",
       "      <td>0</td>\n",
       "      <td>0</td>\n",
       "      <td>0</td>\n",
       "      <td>1.0</td>\n",
       "    </tr>\n",
       "  </tbody>\n",
       "</table>\n",
       "<p>3 rows × 26 columns</p>\n",
       "</div>"
      ],
      "text/plain": [
       "    recid    radate  assignmt site  training  afdc  sex  class_tr  ojt_jsa  \\\n",
       "0  300001  05/16/89         1   NE         1     0    0         0        0   \n",
       "1  300002  08/30/89         1   LC         1     0    0         0        0   \n",
       "2  300006  08/18/88         1   HF         0     0    0         1        0   \n",
       "\n",
       "   oth_serv  ... hsorged  black  hispanic  age2225  age2629  age3035  age3644  \\\n",
       "0         1  ...     1.0      1         0        0        0        0        0   \n",
       "1         1  ...     1.0      0         0        1        0        0        0   \n",
       "2         0  ...     1.0      0         1        0        0        1        0   \n",
       "\n",
       "   age4554  f2sms  wkless13  \n",
       "0        1      0       1.0  \n",
       "1        0      0       0.0  \n",
       "2        0      0       1.0  \n",
       "\n",
       "[3 rows x 26 columns]"
      ]
     },
     "execution_count": 21,
     "metadata": {},
     "output_type": "execute_result"
    }
   ],
   "source": [
    "# imports\n",
    "import pandas as pd\n",
    "from econml.grf import CausalForest\n",
    "from econml.grf import CausalIVForest\n",
    "\n",
    "from sklearn.ensemble import RandomForestRegressor\n",
    "from sklearn.model_selection import GridSearchCV\n",
    "from sklearn.model_selection import train_test_split\n",
    "import statsmodels.api as sm\n",
    "\n",
    "# loading the data\n",
    "jtpa = pd.read_csv(\"jtpa_doubleclean.csv\")\n",
    "jtpa.head(3)"
   ]
  },
  {
   "cell_type": "code",
   "execution_count": 22,
   "metadata": {},
   "outputs": [
    {
     "name": "stdout",
     "output_type": "stream",
     "text": [
      "2922 6821\n"
     ]
    }
   ],
   "source": [
    "# split data into auxiliary and main sample, stratified by assignment\n",
    "auxiliary_index, main_index = train_test_split(jtpa.index, stratify=jtpa['assignmt'], test_size=0.7, random_state=42)\n",
    "\n",
    "auxiliary = jtpa.loc[auxiliary_index].reset_index()\n",
    "main = jtpa.drop(auxiliary_index).reset_index()\n",
    "print(len(auxiliary), len(main))"
   ]
  },
  {
   "cell_type": "code",
   "execution_count": 23,
   "metadata": {},
   "outputs": [
    {
     "data": {
      "text/plain": [
       "(968, 27)"
      ]
     },
     "execution_count": 23,
     "metadata": {},
     "output_type": "execute_result"
    }
   ],
   "source": [
    "# how many in auxiliary are untreated to learn baseline?\n",
    "auxiliary[auxiliary[\"assignmt\"] == 0].shape"
   ]
  },
  {
   "cell_type": "code",
   "execution_count": 24,
   "metadata": {},
   "outputs": [],
   "source": [
    "# define X\n",
    "features = ['afdc', 'sex', 'married', 'pbhous', 'hsorged', 'black', 'hispanic', 'wkless13','age', 'prevearn']"
   ]
  },
  {
   "cell_type": "code",
   "execution_count": 25,
   "metadata": {},
   "outputs": [
    {
     "name": "stdout",
     "output_type": "stream",
     "text": [
      "Fitting 4 folds for each of 27 candidates, totalling 108 fits\n"
     ]
    }
   ],
   "source": [
    "# fit random forest to learn E(Y|D=0, X)\n",
    "X_aux = auxiliary[features + [\"assignmt\"] + [\"training\"]]\n",
    "Y_aux = auxiliary[\"earnings\"]\n",
    "\n",
    "# get grid for regularization\n",
    "grid = {\"n_estimators\": [10, 50, 100], \"max_depth\": [2, 5, 8], \"min_samples_leaf\": [4, 6, 10]}\n",
    "rf = RandomForestRegressor()\n",
    "gs = GridSearchCV(rf, grid, cv = 4, verbose=1)\n",
    "gs.fit(X = X_aux[X_aux[\"assignmt\"] == 0][features], y = Y_aux[X_aux[\"assignmt\"] == 0])\n",
    "\n",
    "# get the best model\n",
    "b = gs.best_estimator_"
   ]
  },
  {
   "cell_type": "code",
   "execution_count": 26,
   "metadata": {},
   "outputs": [
    {
     "data": {
      "text/plain": [
       "{'bootstrap': True,\n",
       " 'ccp_alpha': 0.0,\n",
       " 'criterion': 'squared_error',\n",
       " 'max_depth': 5,\n",
       " 'max_features': 1.0,\n",
       " 'max_leaf_nodes': None,\n",
       " 'max_samples': None,\n",
       " 'min_impurity_decrease': 0.0,\n",
       " 'min_samples_leaf': 10,\n",
       " 'min_samples_split': 2,\n",
       " 'min_weight_fraction_leaf': 0.0,\n",
       " 'n_estimators': 100,\n",
       " 'n_jobs': None,\n",
       " 'oob_score': False,\n",
       " 'random_state': None,\n",
       " 'verbose': 0,\n",
       " 'warm_start': False}"
      ]
     },
     "execution_count": 26,
     "metadata": {},
     "output_type": "execute_result"
    }
   ],
   "source": [
    "b.get_params()"
   ]
  },
  {
   "cell_type": "code",
   "execution_count": 27,
   "metadata": {},
   "outputs": [
    {
     "data": {
      "text/html": [
       "<style>#sk-container-id-2 {color: black;background-color: white;}#sk-container-id-2 pre{padding: 0;}#sk-container-id-2 div.sk-toggleable {background-color: white;}#sk-container-id-2 label.sk-toggleable__label {cursor: pointer;display: block;width: 100%;margin-bottom: 0;padding: 0.3em;box-sizing: border-box;text-align: center;}#sk-container-id-2 label.sk-toggleable__label-arrow:before {content: \"▸\";float: left;margin-right: 0.25em;color: #696969;}#sk-container-id-2 label.sk-toggleable__label-arrow:hover:before {color: black;}#sk-container-id-2 div.sk-estimator:hover label.sk-toggleable__label-arrow:before {color: black;}#sk-container-id-2 div.sk-toggleable__content {max-height: 0;max-width: 0;overflow: hidden;text-align: left;background-color: #f0f8ff;}#sk-container-id-2 div.sk-toggleable__content pre {margin: 0.2em;color: black;border-radius: 0.25em;background-color: #f0f8ff;}#sk-container-id-2 input.sk-toggleable__control:checked~div.sk-toggleable__content {max-height: 200px;max-width: 100%;overflow: auto;}#sk-container-id-2 input.sk-toggleable__control:checked~label.sk-toggleable__label-arrow:before {content: \"▾\";}#sk-container-id-2 div.sk-estimator input.sk-toggleable__control:checked~label.sk-toggleable__label {background-color: #d4ebff;}#sk-container-id-2 div.sk-label input.sk-toggleable__control:checked~label.sk-toggleable__label {background-color: #d4ebff;}#sk-container-id-2 input.sk-hidden--visually {border: 0;clip: rect(1px 1px 1px 1px);clip: rect(1px, 1px, 1px, 1px);height: 1px;margin: -1px;overflow: hidden;padding: 0;position: absolute;width: 1px;}#sk-container-id-2 div.sk-estimator {font-family: monospace;background-color: #f0f8ff;border: 1px dotted black;border-radius: 0.25em;box-sizing: border-box;margin-bottom: 0.5em;}#sk-container-id-2 div.sk-estimator:hover {background-color: #d4ebff;}#sk-container-id-2 div.sk-parallel-item::after {content: \"\";width: 100%;border-bottom: 1px solid gray;flex-grow: 1;}#sk-container-id-2 div.sk-label:hover label.sk-toggleable__label {background-color: #d4ebff;}#sk-container-id-2 div.sk-serial::before {content: \"\";position: absolute;border-left: 1px solid gray;box-sizing: border-box;top: 0;bottom: 0;left: 50%;z-index: 0;}#sk-container-id-2 div.sk-serial {display: flex;flex-direction: column;align-items: center;background-color: white;padding-right: 0.2em;padding-left: 0.2em;position: relative;}#sk-container-id-2 div.sk-item {position: relative;z-index: 1;}#sk-container-id-2 div.sk-parallel {display: flex;align-items: stretch;justify-content: center;background-color: white;position: relative;}#sk-container-id-2 div.sk-item::before, #sk-container-id-2 div.sk-parallel-item::before {content: \"\";position: absolute;border-left: 1px solid gray;box-sizing: border-box;top: 0;bottom: 0;left: 50%;z-index: -1;}#sk-container-id-2 div.sk-parallel-item {display: flex;flex-direction: column;z-index: 1;position: relative;background-color: white;}#sk-container-id-2 div.sk-parallel-item:first-child::after {align-self: flex-end;width: 50%;}#sk-container-id-2 div.sk-parallel-item:last-child::after {align-self: flex-start;width: 50%;}#sk-container-id-2 div.sk-parallel-item:only-child::after {width: 0;}#sk-container-id-2 div.sk-dashed-wrapped {border: 1px dashed gray;margin: 0 0.4em 0.5em 0.4em;box-sizing: border-box;padding-bottom: 0.4em;background-color: white;}#sk-container-id-2 div.sk-label label {font-family: monospace;font-weight: bold;display: inline-block;line-height: 1.2em;}#sk-container-id-2 div.sk-label-container {text-align: center;}#sk-container-id-2 div.sk-container {/* jupyter's `normalize.less` sets `[hidden] { display: none; }` but bootstrap.min.css set `[hidden] { display: none !important; }` so we also need the `!important` here to be able to override the default hidden behavior on the sphinx rendered scikit-learn.org. See: https://github.com/scikit-learn/scikit-learn/issues/21755 */display: inline-block !important;position: relative;}#sk-container-id-2 div.sk-text-repr-fallback {display: none;}</style><div id=\"sk-container-id-2\" class=\"sk-top-container\"><div class=\"sk-text-repr-fallback\"><pre>CausalIVForest(min_samples_leaf=2)</pre><b>In a Jupyter environment, please rerun this cell to show the HTML representation or trust the notebook. <br />On GitHub, the HTML representation is unable to render, please try loading this page with nbviewer.org.</b></div><div class=\"sk-container\" hidden><div class=\"sk-item\"><div class=\"sk-estimator sk-toggleable\"><input class=\"sk-toggleable__control sk-hidden--visually\" id=\"sk-estimator-id-2\" type=\"checkbox\" checked><label for=\"sk-estimator-id-2\" class=\"sk-toggleable__label sk-toggleable__label-arrow\">CausalIVForest</label><div class=\"sk-toggleable__content\"><pre>CausalIVForest(min_samples_leaf=2)</pre></div></div></div></div></div>"
      ],
      "text/plain": [
       "CausalIVForest(min_samples_leaf=2)"
      ]
     },
     "execution_count": 27,
     "metadata": {},
     "output_type": "execute_result"
    }
   ],
   "source": [
    "# fit causal forest to learn E(Y(0) - Y(1)|X)\n",
    "\n",
    "cf = CausalForest(min_samples_leaf=2)\n",
    "cf.fit(X = X_aux[features], T = X_aux[\"assignmt\"], y = Y_aux)\n",
    "\n",
    "cf_iv = CausalIVForest(min_samples_leaf=2)\n",
    "cf_iv.fit(X = X_aux[features], T = X_aux[\"training\"], y = Y_aux, Z = X_aux[\"assignmt\"])"
   ]
  },
  {
   "cell_type": "code",
   "execution_count": 28,
   "metadata": {},
   "outputs": [],
   "source": [
    "# get predictions on main sample\n",
    "b_preds = b.predict(main[features])\n",
    "cf_preds = pd.Series(cf.predict_full(main[features])[:,0]) # extract from (n,1) array\n",
    "cf_iv_preds = pd.Series(cf_iv.predict_full(main[features])[:,0]) # extract from (n,1) array\n"
   ]
  },
  {
   "cell_type": "markdown",
   "metadata": {},
   "source": [
    "We can now fit the BLP for $s_0(X)$. This this outcome is unobserved, Chernozukov et al. suggests to use a certain weighted linear projection, where the weights are given by the inverse of the variance of the propensity score. Since in our random experiment, the propensity score is constant, i.e. $e(X) = p \\: \\forall X$, the weights are also constant and can be ignored."
   ]
  },
  {
   "cell_type": "code",
   "execution_count": 29,
   "metadata": {},
   "outputs": [],
   "source": [
    "# build Weighted Residual BLP to estimate coefficients of BLP\n",
    "# Strategy A in Chernozhukov et al. (2018)\n",
    "\n",
    "p = main.assignmt.mean()\n",
    "\n",
    "# get dependent variables\n",
    "finite_sample_improv = pd.DataFrame({\"const\" : 1, \"bZ\" : b_preds})\n",
    "intercept = pd.Series(main.assignmt - p, name = \"intercept\")\n",
    "slope = pd.Series((main.assignmt - p)*(cf_preds - cf_preds.mean()), name = \"slope\")\n",
    "\n",
    "# collect all dependent variables\n",
    "dependent_vars = pd.concat([finite_sample_improv, intercept, slope], axis = 1)"
   ]
  },
  {
   "cell_type": "code",
   "execution_count": 30,
   "metadata": {},
   "outputs": [
    {
     "data": {
      "text/html": [
       "<div>\n",
       "<style scoped>\n",
       "    .dataframe tbody tr th:only-of-type {\n",
       "        vertical-align: middle;\n",
       "    }\n",
       "\n",
       "    .dataframe tbody tr th {\n",
       "        vertical-align: top;\n",
       "    }\n",
       "\n",
       "    .dataframe thead th {\n",
       "        text-align: right;\n",
       "    }\n",
       "</style>\n",
       "<table border=\"1\" class=\"dataframe\">\n",
       "  <thead>\n",
       "    <tr style=\"text-align: right;\">\n",
       "      <th></th>\n",
       "      <th>const</th>\n",
       "      <th>bZ</th>\n",
       "      <th>intercept</th>\n",
       "      <th>slope</th>\n",
       "    </tr>\n",
       "  </thead>\n",
       "  <tbody>\n",
       "    <tr>\n",
       "      <th>2455</th>\n",
       "      <td>1</td>\n",
       "      <td>16242.706320</td>\n",
       "      <td>0.331183</td>\n",
       "      <td>949.902382</td>\n",
       "    </tr>\n",
       "    <tr>\n",
       "      <th>5096</th>\n",
       "      <td>1</td>\n",
       "      <td>12353.832826</td>\n",
       "      <td>0.331183</td>\n",
       "      <td>1833.196039</td>\n",
       "    </tr>\n",
       "    <tr>\n",
       "      <th>3969</th>\n",
       "      <td>1</td>\n",
       "      <td>15123.994434</td>\n",
       "      <td>0.331183</td>\n",
       "      <td>-1102.601729</td>\n",
       "    </tr>\n",
       "    <tr>\n",
       "      <th>4242</th>\n",
       "      <td>1</td>\n",
       "      <td>33027.609104</td>\n",
       "      <td>0.331183</td>\n",
       "      <td>595.021769</td>\n",
       "    </tr>\n",
       "    <tr>\n",
       "      <th>4524</th>\n",
       "      <td>1</td>\n",
       "      <td>32479.496156</td>\n",
       "      <td>0.331183</td>\n",
       "      <td>-1190.323164</td>\n",
       "    </tr>\n",
       "    <tr>\n",
       "      <th>4025</th>\n",
       "      <td>1</td>\n",
       "      <td>11726.008150</td>\n",
       "      <td>0.331183</td>\n",
       "      <td>279.927871</td>\n",
       "    </tr>\n",
       "  </tbody>\n",
       "</table>\n",
       "</div>"
      ],
      "text/plain": [
       "      const            bZ  intercept        slope\n",
       "2455      1  16242.706320   0.331183   949.902382\n",
       "5096      1  12353.832826   0.331183  1833.196039\n",
       "3969      1  15123.994434   0.331183 -1102.601729\n",
       "4242      1  33027.609104   0.331183   595.021769\n",
       "4524      1  32479.496156   0.331183 -1190.323164\n",
       "4025      1  11726.008150   0.331183   279.927871"
      ]
     },
     "execution_count": 30,
     "metadata": {},
     "output_type": "execute_result"
    }
   ],
   "source": [
    "dependent_vars.sample(6)"
   ]
  },
  {
   "cell_type": "code",
   "execution_count": 31,
   "metadata": {},
   "outputs": [
    {
     "data": {
      "text/html": [
       "<table class=\"simpletable\">\n",
       "<caption>OLS Regression Results</caption>\n",
       "<tr>\n",
       "  <th>Dep. Variable:</th>        <td>earnings</td>     <th>  R-squared:         </th> <td>   0.121</td> \n",
       "</tr>\n",
       "<tr>\n",
       "  <th>Model:</th>                   <td>OLS</td>       <th>  Adj. R-squared:    </th> <td>   0.120</td> \n",
       "</tr>\n",
       "<tr>\n",
       "  <th>Method:</th>             <td>Least Squares</td>  <th>  F-statistic:       </th> <td>   311.9</td> \n",
       "</tr>\n",
       "<tr>\n",
       "  <th>Date:</th>             <td>Thu, 02 May 2024</td> <th>  Prob (F-statistic):</th> <td>9.69e-190</td>\n",
       "</tr>\n",
       "<tr>\n",
       "  <th>Time:</th>                 <td>19:19:27</td>     <th>  Log-Likelihood:    </th> <td> -75625.</td> \n",
       "</tr>\n",
       "<tr>\n",
       "  <th>No. Observations:</th>      <td>  6821</td>      <th>  AIC:               </th> <td>1.513e+05</td>\n",
       "</tr>\n",
       "<tr>\n",
       "  <th>Df Residuals:</th>          <td>  6817</td>      <th>  BIC:               </th> <td>1.513e+05</td>\n",
       "</tr>\n",
       "<tr>\n",
       "  <th>Df Model:</th>              <td>     3</td>      <th>                     </th>     <td> </td>    \n",
       "</tr>\n",
       "<tr>\n",
       "  <th>Covariance Type:</th>      <td>nonrobust</td>    <th>                     </th>     <td> </td>    \n",
       "</tr>\n",
       "</table>\n",
       "<table class=\"simpletable\">\n",
       "<tr>\n",
       "      <td></td>         <th>coef</th>     <th>std err</th>      <th>t</th>      <th>P>|t|</th>  <th>[0.025</th>    <th>0.975]</th>  \n",
       "</tr>\n",
       "<tr>\n",
       "  <th>const</th>     <td> 2246.8528</td> <td>  495.545</td> <td>    4.534</td> <td> 0.000</td> <td> 1275.429</td> <td> 3218.276</td>\n",
       "</tr>\n",
       "<tr>\n",
       "  <th>bZ</th>        <td>    0.9125</td> <td>    0.030</td> <td>   30.410</td> <td> 0.000</td> <td>    0.854</td> <td>    0.971</td>\n",
       "</tr>\n",
       "<tr>\n",
       "  <th>intercept</th> <td> 1379.3003</td> <td>  406.740</td> <td>    3.391</td> <td> 0.001</td> <td>  581.963</td> <td> 2176.637</td>\n",
       "</tr>\n",
       "<tr>\n",
       "  <th>slope</th>     <td>   -0.0646</td> <td>    0.141</td> <td>   -0.458</td> <td> 0.647</td> <td>   -0.341</td> <td>    0.212</td>\n",
       "</tr>\n",
       "</table>\n",
       "<table class=\"simpletable\">\n",
       "<tr>\n",
       "  <th>Omnibus:</th>       <td>1669.348</td> <th>  Durbin-Watson:     </th> <td>   2.025</td>\n",
       "</tr>\n",
       "<tr>\n",
       "  <th>Prob(Omnibus):</th>  <td> 0.000</td>  <th>  Jarque-Bera (JB):  </th> <td>4384.695</td>\n",
       "</tr>\n",
       "<tr>\n",
       "  <th>Skew:</th>           <td> 1.315</td>  <th>  Prob(JB):          </th> <td>    0.00</td>\n",
       "</tr>\n",
       "<tr>\n",
       "  <th>Kurtosis:</th>       <td> 5.917</td>  <th>  Cond. No.          </th> <td>4.28e+04</td>\n",
       "</tr>\n",
       "</table><br/><br/>Notes:<br/>[1] Standard Errors assume that the covariance matrix of the errors is correctly specified.<br/>[2] The condition number is large, 4.28e+04. This might indicate that there are<br/>strong multicollinearity or other numerical problems."
      ],
      "text/latex": [
       "\\begin{center}\n",
       "\\begin{tabular}{lclc}\n",
       "\\toprule\n",
       "\\textbf{Dep. Variable:}    &     earnings     & \\textbf{  R-squared:         } &     0.121   \\\\\n",
       "\\textbf{Model:}            &       OLS        & \\textbf{  Adj. R-squared:    } &     0.120   \\\\\n",
       "\\textbf{Method:}           &  Least Squares   & \\textbf{  F-statistic:       } &     311.9   \\\\\n",
       "\\textbf{Date:}             & Thu, 02 May 2024 & \\textbf{  Prob (F-statistic):} & 9.69e-190   \\\\\n",
       "\\textbf{Time:}             &     19:19:27     & \\textbf{  Log-Likelihood:    } &   -75625.   \\\\\n",
       "\\textbf{No. Observations:} &        6821      & \\textbf{  AIC:               } & 1.513e+05   \\\\\n",
       "\\textbf{Df Residuals:}     &        6817      & \\textbf{  BIC:               } & 1.513e+05   \\\\\n",
       "\\textbf{Df Model:}         &           3      & \\textbf{                     } &             \\\\\n",
       "\\textbf{Covariance Type:}  &    nonrobust     & \\textbf{                     } &             \\\\\n",
       "\\bottomrule\n",
       "\\end{tabular}\n",
       "\\begin{tabular}{lcccccc}\n",
       "                   & \\textbf{coef} & \\textbf{std err} & \\textbf{t} & \\textbf{P$> |$t$|$} & \\textbf{[0.025} & \\textbf{0.975]}  \\\\\n",
       "\\midrule\n",
       "\\textbf{const}     &    2246.8528  &      495.545     &     4.534  &         0.000        &     1275.429    &     3218.276     \\\\\n",
       "\\textbf{bZ}        &       0.9125  &        0.030     &    30.410  &         0.000        &        0.854    &        0.971     \\\\\n",
       "\\textbf{intercept} &    1379.3003  &      406.740     &     3.391  &         0.001        &      581.963    &     2176.637     \\\\\n",
       "\\textbf{slope}     &      -0.0646  &        0.141     &    -0.458  &         0.647        &       -0.341    &        0.212     \\\\\n",
       "\\bottomrule\n",
       "\\end{tabular}\n",
       "\\begin{tabular}{lclc}\n",
       "\\textbf{Omnibus:}       & 1669.348 & \\textbf{  Durbin-Watson:     } &    2.025  \\\\\n",
       "\\textbf{Prob(Omnibus):} &   0.000  & \\textbf{  Jarque-Bera (JB):  } & 4384.695  \\\\\n",
       "\\textbf{Skew:}          &   1.315  & \\textbf{  Prob(JB):          } &     0.00  \\\\\n",
       "\\textbf{Kurtosis:}      &   5.917  & \\textbf{  Cond. No.          } & 4.28e+04  \\\\\n",
       "\\bottomrule\n",
       "\\end{tabular}\n",
       "%\\caption{OLS Regression Results}\n",
       "\\end{center}\n",
       "\n",
       "Notes: \\newline\n",
       " [1] Standard Errors assume that the covariance matrix of the errors is correctly specified. \\newline\n",
       " [2] The condition number is large, 4.28e+04. This might indicate that there are \\newline\n",
       " strong multicollinearity or other numerical problems."
      ],
      "text/plain": [
       "<class 'statsmodels.iolib.summary.Summary'>\n",
       "\"\"\"\n",
       "                            OLS Regression Results                            \n",
       "==============================================================================\n",
       "Dep. Variable:               earnings   R-squared:                       0.121\n",
       "Model:                            OLS   Adj. R-squared:                  0.120\n",
       "Method:                 Least Squares   F-statistic:                     311.9\n",
       "Date:                Thu, 02 May 2024   Prob (F-statistic):          9.69e-190\n",
       "Time:                        19:19:27   Log-Likelihood:                -75625.\n",
       "No. Observations:                6821   AIC:                         1.513e+05\n",
       "Df Residuals:                    6817   BIC:                         1.513e+05\n",
       "Df Model:                           3                                         \n",
       "Covariance Type:            nonrobust                                         \n",
       "==============================================================================\n",
       "                 coef    std err          t      P>|t|      [0.025      0.975]\n",
       "------------------------------------------------------------------------------\n",
       "const       2246.8528    495.545      4.534      0.000    1275.429    3218.276\n",
       "bZ             0.9125      0.030     30.410      0.000       0.854       0.971\n",
       "intercept   1379.3003    406.740      3.391      0.001     581.963    2176.637\n",
       "slope         -0.0646      0.141     -0.458      0.647      -0.341       0.212\n",
       "==============================================================================\n",
       "Omnibus:                     1669.348   Durbin-Watson:                   2.025\n",
       "Prob(Omnibus):                  0.000   Jarque-Bera (JB):             4384.695\n",
       "Skew:                           1.315   Prob(JB):                         0.00\n",
       "Kurtosis:                       5.917   Cond. No.                     4.28e+04\n",
       "==============================================================================\n",
       "\n",
       "Notes:\n",
       "[1] Standard Errors assume that the covariance matrix of the errors is correctly specified.\n",
       "[2] The condition number is large, 4.28e+04. This might indicate that there are\n",
       "strong multicollinearity or other numerical problems.\n",
       "\"\"\""
      ]
     },
     "execution_count": 31,
     "metadata": {},
     "output_type": "execute_result"
    }
   ],
   "source": [
    "# run linear model\n",
    "model = sm.OLS(main.earnings, dependent_vars)\n",
    "results = model.fit()\n",
    "results.summary()"
   ]
  },
  {
   "cell_type": "markdown",
   "metadata": {},
   "source": [
    "This is clearly not significant, which is surprising...\n"
   ]
  },
  {
   "cell_type": "markdown",
   "metadata": {},
   "source": [
    "Retrying with another random forest"
   ]
  },
  {
   "cell_type": "code",
   "execution_count": 12,
   "metadata": {},
   "outputs": [],
   "source": [
    "# also using a standard RF to predict E(Y|D=1, X)\n",
    "\n",
    "# fit random forest to learn E(Y|D=1, X) using parameters from b\n",
    "\n",
    "# fit random forest to learn E(Y|D=0, X)\n",
    "# get grid for regularization\n",
    "rf2 = RandomForestRegressor(**b.get_params())\n",
    "rf2.fit(X = X_aux[X_aux[\"assignmt\"] == 1][features], y = Y_aux[X_aux[\"assignmt\"] == 1])\n",
    "\n",
    "# get alternative cate_pred\n",
    "b_preds2 = rf2.predict(main[features])\n",
    "cate_pred = pd.Series(b_preds2 - b_preds)"
   ]
  },
  {
   "cell_type": "code",
   "execution_count": 13,
   "metadata": {},
   "outputs": [],
   "source": [
    "# replace slope with cate_pred\n",
    "dependent_vars[\"slope\"] = cate_pred"
   ]
  },
  {
   "cell_type": "code",
   "execution_count": 14,
   "metadata": {},
   "outputs": [
    {
     "data": {
      "text/html": [
       "<table class=\"simpletable\">\n",
       "<caption>OLS Regression Results</caption>\n",
       "<tr>\n",
       "  <th>Dep. Variable:</th>        <td>earnings</td>     <th>  R-squared:         </th> <td>   0.142</td> \n",
       "</tr>\n",
       "<tr>\n",
       "  <th>Model:</th>                   <td>OLS</td>       <th>  Adj. R-squared:    </th> <td>   0.141</td> \n",
       "</tr>\n",
       "<tr>\n",
       "  <th>Method:</th>             <td>Least Squares</td>  <th>  F-statistic:       </th> <td>   374.9</td> \n",
       "</tr>\n",
       "<tr>\n",
       "  <th>Date:</th>             <td>Thu, 02 May 2024</td> <th>  Prob (F-statistic):</th> <td>2.21e-225</td>\n",
       "</tr>\n",
       "<tr>\n",
       "  <th>Time:</th>                 <td>19:13:00</td>     <th>  Log-Likelihood:    </th> <td> -75542.</td> \n",
       "</tr>\n",
       "<tr>\n",
       "  <th>No. Observations:</th>      <td>  6821</td>      <th>  AIC:               </th> <td>1.511e+05</td>\n",
       "</tr>\n",
       "<tr>\n",
       "  <th>Df Residuals:</th>          <td>  6817</td>      <th>  BIC:               </th> <td>1.511e+05</td>\n",
       "</tr>\n",
       "<tr>\n",
       "  <th>Df Model:</th>              <td>     3</td>      <th>                     </th>     <td> </td>    \n",
       "</tr>\n",
       "<tr>\n",
       "  <th>Covariance Type:</th>      <td>nonrobust</td>    <th>                     </th>     <td> </td>    \n",
       "</tr>\n",
       "</table>\n",
       "<table class=\"simpletable\">\n",
       "<tr>\n",
       "        <td></td>          <th>coef</th>     <th>std err</th>      <th>t</th>      <th>P>|t|</th>  <th>[0.025</th>    <th>0.975]</th>  \n",
       "</tr>\n",
       "<tr>\n",
       "  <th>const</th>        <td>   28.4511</td> <td>  521.978</td> <td>    0.055</td> <td> 0.957</td> <td> -994.788</td> <td> 1051.690</td>\n",
       "</tr>\n",
       "<tr>\n",
       "  <th>B(x)</th>         <td>    1.0239</td> <td>    0.031</td> <td>   33.321</td> <td> 0.000</td> <td>    0.964</td> <td>    1.084</td>\n",
       "</tr>\n",
       "<tr>\n",
       "  <th>\u0007lpha</th>        <td> 1480.3458</td> <td>  401.934</td> <td>    3.683</td> <td> 0.000</td> <td>  692.429</td> <td> 2268.263</td>\n",
       "</tr>\n",
       "<tr>\n",
       "  <th>[S(x)-ES(x)]</th> <td>    0.6041</td> <td>    0.044</td> <td>   13.620</td> <td> 0.000</td> <td>    0.517</td> <td>    0.691</td>\n",
       "</tr>\n",
       "</table>\n",
       "<table class=\"simpletable\">\n",
       "<tr>\n",
       "  <th>Omnibus:</th>       <td>1653.518</td> <th>  Durbin-Watson:     </th> <td>   2.034</td>\n",
       "</tr>\n",
       "<tr>\n",
       "  <th>Prob(Omnibus):</th>  <td> 0.000</td>  <th>  Jarque-Bera (JB):  </th> <td>4413.340</td>\n",
       "</tr>\n",
       "<tr>\n",
       "  <th>Skew:</th>           <td> 1.296</td>  <th>  Prob(JB):          </th> <td>    0.00</td>\n",
       "</tr>\n",
       "<tr>\n",
       "  <th>Kurtosis:</th>       <td> 5.968</td>  <th>  Cond. No.          </th> <td>4.63e+04</td>\n",
       "</tr>\n",
       "</table><br/><br/>Notes:<br/>[1] Standard Errors assume that the covariance matrix of the errors is correctly specified.<br/>[2] The condition number is large, 4.63e+04. This might indicate that there are<br/>strong multicollinearity or other numerical problems."
      ],
      "text/latex": [
       "\\begin{center}\n",
       "\\begin{tabular}{lclc}\n",
       "\\toprule\n",
       "\\textbf{Dep. Variable:}    &     earnings     & \\textbf{  R-squared:         } &     0.142   \\\\\n",
       "\\textbf{Model:}            &       OLS        & \\textbf{  Adj. R-squared:    } &     0.141   \\\\\n",
       "\\textbf{Method:}           &  Least Squares   & \\textbf{  F-statistic:       } &     374.9   \\\\\n",
       "\\textbf{Date:}             & Thu, 02 May 2024 & \\textbf{  Prob (F-statistic):} & 2.21e-225   \\\\\n",
       "\\textbf{Time:}             &     19:13:00     & \\textbf{  Log-Likelihood:    } &   -75542.   \\\\\n",
       "\\textbf{No. Observations:} &        6821      & \\textbf{  AIC:               } & 1.511e+05   \\\\\n",
       "\\textbf{Df Residuals:}     &        6817      & \\textbf{  BIC:               } & 1.511e+05   \\\\\n",
       "\\textbf{Df Model:}         &           3      & \\textbf{                     } &             \\\\\n",
       "\\textbf{Covariance Type:}  &    nonrobust     & \\textbf{                     } &             \\\\\n",
       "\\bottomrule\n",
       "\\end{tabular}\n",
       "\\begin{tabular}{lcccccc}\n",
       "                      & \\textbf{coef} & \\textbf{std err} & \\textbf{t} & \\textbf{P$> |$t$|$} & \\textbf{[0.025} & \\textbf{0.975]}  \\\\\n",
       "\\midrule\n",
       "\\textbf{const}        &      28.4511  &      521.978     &     0.055  &         0.957        &     -994.788    &     1051.690     \\\\\n",
       "\\textbf{B(x)}         &       1.0239  &        0.031     &    33.321  &         0.000        &        0.964    &        1.084     \\\\\n",
       "\\textbf{\u0007lpha}        &    1480.3458  &      401.934     &     3.683  &         0.000        &      692.429    &     2268.263     \\\\\n",
       "\\textbf{[S(x)-ES(x)]} &       0.6041  &        0.044     &    13.620  &         0.000        &        0.517    &        0.691     \\\\\n",
       "\\bottomrule\n",
       "\\end{tabular}\n",
       "\\begin{tabular}{lclc}\n",
       "\\textbf{Omnibus:}       & 1653.518 & \\textbf{  Durbin-Watson:     } &    2.034  \\\\\n",
       "\\textbf{Prob(Omnibus):} &   0.000  & \\textbf{  Jarque-Bera (JB):  } & 4413.340  \\\\\n",
       "\\textbf{Skew:}          &   1.296  & \\textbf{  Prob(JB):          } &     0.00  \\\\\n",
       "\\textbf{Kurtosis:}      &   5.968  & \\textbf{  Cond. No.          } & 4.63e+04  \\\\\n",
       "\\bottomrule\n",
       "\\end{tabular}\n",
       "%\\caption{OLS Regression Results}\n",
       "\\end{center}\n",
       "\n",
       "Notes: \\newline\n",
       " [1] Standard Errors assume that the covariance matrix of the errors is correctly specified. \\newline\n",
       " [2] The condition number is large, 4.63e+04. This might indicate that there are \\newline\n",
       " strong multicollinearity or other numerical problems."
      ],
      "text/plain": [
       "<class 'statsmodels.iolib.summary.Summary'>\n",
       "\"\"\"\n",
       "                            OLS Regression Results                            \n",
       "==============================================================================\n",
       "Dep. Variable:               earnings   R-squared:                       0.142\n",
       "Model:                            OLS   Adj. R-squared:                  0.141\n",
       "Method:                 Least Squares   F-statistic:                     374.9\n",
       "Date:                Thu, 02 May 2024   Prob (F-statistic):          2.21e-225\n",
       "Time:                        19:13:00   Log-Likelihood:                -75542.\n",
       "No. Observations:                6821   AIC:                         1.511e+05\n",
       "Df Residuals:                    6817   BIC:                         1.511e+05\n",
       "Df Model:                           3                                         \n",
       "Covariance Type:            nonrobust                                         \n",
       "================================================================================\n",
       "                   coef    std err          t      P>|t|      [0.025      0.975]\n",
       "--------------------------------------------------------------------------------\n",
       "const           28.4511    521.978      0.055      0.957    -994.788    1051.690\n",
       "B(x)             1.0239      0.031     33.321      0.000       0.964       1.084\n",
       "\u0007lpha         1480.3458    401.934      3.683      0.000     692.429    2268.263\n",
       "[S(x)-ES(x)]     0.6041      0.044     13.620      0.000       0.517       0.691\n",
       "==============================================================================\n",
       "Omnibus:                     1653.518   Durbin-Watson:                   2.034\n",
       "Prob(Omnibus):                  0.000   Jarque-Bera (JB):             4413.340\n",
       "Skew:                           1.296   Prob(JB):                         0.00\n",
       "Kurtosis:                       5.968   Cond. No.                     4.63e+04\n",
       "==============================================================================\n",
       "\n",
       "Notes:\n",
       "[1] Standard Errors assume that the covariance matrix of the errors is correctly specified.\n",
       "[2] The condition number is large, 4.63e+04. This might indicate that there are\n",
       "strong multicollinearity or other numerical problems.\n",
       "\"\"\""
      ]
     },
     "execution_count": 14,
     "metadata": {},
     "output_type": "execute_result"
    }
   ],
   "source": [
    "# rename and re run\n",
    "dependent_vars.rename({\"bZ\": \"B(x)\", \"intercept\": \"\\alpha\", \"slope\": \"[S(x)-ES(x)]\"}, inplace = True, axis = 1)\n",
    "\n",
    "# re run linear model\n",
    "model = sm.OLS(main.earnings, dependent_vars)\n",
    "results = model.fit()\n",
    "results.summary()"
   ]
  },
  {
   "cell_type": "code",
   "execution_count": 15,
   "metadata": {},
   "outputs": [],
   "source": [
    "latex_BLP = results.summary().tables[1].as_latex_tabular()"
   ]
  },
  {
   "cell_type": "code",
   "execution_count": 16,
   "metadata": {},
   "outputs": [
    {
     "name": "stdout",
     "output_type": "stream",
     "text": [
      "\\begin{center}\n",
      "\\begin{tabular}{lcccccc}\n",
      "\\toprule\n",
      "                      & \\textbf{coef} & \\textbf{std err} & \\textbf{t} & \\textbf{P$> |$t$|$} & \\textbf{[0.025} & \\textbf{0.975]}  \\\\\n",
      "\\midrule\n",
      "\\textbf{const}        &      28.4511  &      521.978     &     0.055  &         0.957        &     -994.788    &     1051.690     \\\\\n",
      "\\textbf{B(x)}         &       1.0239  &        0.031     &    33.321  &         0.000        &        0.964    &        1.084     \\\\\n",
      "\\textbf{\u0007lpha}        &    1480.3458  &      401.934     &     3.683  &         0.000        &      692.429    &     2268.263     \\\\\n",
      "\\textbf{[S(x)-ES(x)]} &       0.6041  &        0.044     &    13.620  &         0.000        &        0.517    &        0.691     \\\\\n",
      "\\bottomrule\n",
      "\\end{tabular}\n",
      "\\end{center}\n"
     ]
    }
   ],
   "source": [
    "print(latex_BLP)"
   ]
  },
  {
   "cell_type": "code",
   "execution_count": 33,
   "metadata": {},
   "outputs": [],
   "source": [
    "# compare BLP CATE to the CATE from causal forest on main sample\n",
    "\n",
    "cf_df = pd.read_csv(\"final_df.csv\")\n"
   ]
  },
  {
   "cell_type": "code",
   "execution_count": 34,
   "metadata": {},
   "outputs": [],
   "source": [
    "cf_df = cf_df.loc[main_index,[\"CATE_cf\", \"CATE_cf_lb\", \"CATE_cf_ub\"]]"
   ]
  },
  {
   "cell_type": "code",
   "execution_count": 35,
   "metadata": {},
   "outputs": [],
   "source": [
    "cf_df[\"BLP\"] = cate_pred"
   ]
  },
  {
   "cell_type": "code",
   "execution_count": 44,
   "metadata": {},
   "outputs": [],
   "source": [
    "cf_df[\"cf_pred\"] = cf_preds\n",
    "cf_df[\"cf_iv_pred\"] = cf_iv_preds"
   ]
  },
  {
   "cell_type": "code",
   "execution_count": 60,
   "metadata": {},
   "outputs": [
    {
     "data": {
      "image/png": "[encoded data removed]",
      "text/plain": [
       "<Figure size 600x600 with 1 Axes>"
      ]
     },
     "metadata": {},
     "output_type": "display_data"
    }
   ],
   "source": [
    "# scatterplot\n",
    "import seaborn as sns\n",
    "import matplotlib.pyplot as plt\n",
    "\n",
    "plt.figure(figsize = (6,6))\n",
    "sns.scatterplot(x = \"cf_pred\", y = \"BLP\", data = cf_df, marker = \"x\", alpha = 0.3, color = \"blue\", label = \"predictions\")\n",
    "# add line of best fit\n",
    "sns.regplot(x = \"cf_pred\", y = \"BLP\", data = cf_df, scatter = False, lowess = True, color = \"green\", label = \"lowess\")\n",
    "# add 45 degree line\n",
    "plt.plot([-20000, 20000], [-20000, 20000], color = \"black\", linestyle = \"--\")\n",
    "# set common axis limits\n",
    "plt.xlim(-20000, 20000)\n",
    "plt.ylim(-20000, 20000)\n",
    "plt.xlabel(\"Causal forest\")\n",
    "plt.ylabel(\"Best linear predictor\")\n",
    "plt.title(\"Comparison of C-ITT predictions\", fontsize = 16)\n",
    "plt.legend()\n",
    "plt.tight_layout()\n",
    "\n",
    "# save fig\n",
    "plt.savefig(\"BLP_vs_CF.pdf\", format = \"pdf\", dpi = 400)\n",
    "\n",
    "plt.show()"
   ]
  },
  {
   "cell_type": "markdown",
   "metadata": {},
   "source": [
    "The CATE estimates from the BLP aren't very good."
   ]
  },
  {
   "cell_type": "markdown",
   "metadata": {},
   "source": []
  }
 ],
 "metadata": {
  "kernelspec": {
   "display_name": "thesis",
   "language": "python",
   "name": "python3"
  },
  "language_info": {
   "codemirror_mode": {
    "name": "ipython",
    "version": 3
   },
   "file_extension": ".py",
   "mimetype": "text/x-python",
   "name": "python",
   "nbconvert_exporter": "python",
   "pygments_lexer": "ipython3",
   "version": "3.11.7"
  }
 },
 "nbformat": 4,
 "nbformat_minor": 2
}
