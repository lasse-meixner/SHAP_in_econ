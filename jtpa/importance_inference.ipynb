{
 "cells": [
  {
   "cell_type": "markdown",
   "metadata": {},
   "source": [
    "Implement this procedure:\n",
    "\n",
    "\n",
    "- Split the data into an auxiliary sample $D_a$ and a main sample $D_m$.\n",
    "- Train an honest causal forest $F$ on the auxiliary data $D_a$.\n",
    "- Take a bootstrap sample $D^BS_m$ from the main sample.\n",
    "- Compute the SHAP values for the conditional ITT for each instance in $D^BS_m$ using the forest $F$.\n",
    "- Compute the proportion of instances in $D^BS_m$ for which the SHAP value of age is the largest among all features.\n",
    "- Repeat steps 3-5 $B$ times and record Q5, the median, and Q95 of the proportions.\n",
    "- Repeat the procedure for $K$ different splits."
   ]
  },
  {
   "cell_type": "markdown",
   "metadata": {},
   "source": [
    "### Imports and set up"
   ]
  },
  {
   "cell_type": "code",
   "execution_count": 18,
   "metadata": {},
   "outputs": [],
   "source": [
    "import pandas as pd\n",
    "import time\n",
    "from tqdm import tqdm\n",
    "\n",
    "from sklearn.model_selection import train_test_split\n",
    "from econml.grf import CausalForest\n",
    "from shap.explainers import _tree # imports local fork"
   ]
  },
  {
   "cell_type": "code",
   "execution_count": 19,
   "metadata": {},
   "outputs": [],
   "source": [
    "# import data\n",
    "data = pd.read_csv('jtpa_doubleclean.csv') \n",
    "\n",
    "# get X\n",
    "features = ['afdc', 'sex', 'married', 'pbhous', 'hsorged', 'black', 'hispanic', 'wkless13','age', 'prevearn']\n",
    "X = data[features + [\"assignmt\"]]\n",
    "y = data['earnings']"
   ]
  },
  {
   "cell_type": "markdown",
   "metadata": {},
   "source": [
    "### Bootstrap implementation"
   ]
  },
  {
   "cell_type": "code",
   "execution_count": 36,
   "metadata": {},
   "outputs": [],
   "source": [
    "# write auxiliary function for inner bootstrap\n",
    "def inner_bootstrap(main_sample_X, treeExplainer, n_iterations = 100):\n",
    "\n",
    "    props = []\n",
    "    # run inner loop\n",
    "    for i in tqdm(range(n_iterations)):\n",
    "        # get bootstrap sample\n",
    "        bootstrap_sample = main_sample_X.sample(n=main_sample_X.shape[0], replace=True)\n",
    "        \n",
    "        # get SHAP values\n",
    "        shap_values = treeExplainer.shap_values(bootstrap_sample)\n",
    "        # get proportion of instances where \"age\" has the largest SHAP value\n",
    "        prop_age_largest = sum(shap_values.argmax(axis=1) == 8)/shap_values.shape[0]\n",
    "        props.append(prop_age_largest)\n",
    "    return props\n",
    "    "
   ]
  },
  {
   "cell_type": "code",
   "execution_count": 37,
   "metadata": {},
   "outputs": [],
   "source": [
    "# define outer loop\n",
    "\n",
    "def outer_loop(data, n_outer = 6, n_inner=100):\n",
    "    \n",
    "    results_df = pd.DataFrame()\n",
    "    \n",
    "    # run outer loop\n",
    "    for j in range(n_outer):\n",
    "        start = time.time()\n",
    "        # split data randomly\n",
    "        X_train, X_test, y_train, y_test = train_test_split(X, y, test_size=0.5, random_state=42)\n",
    "\n",
    "        # train model on random split\n",
    "        causal_forest = CausalForest(min_samples_leaf=4, honest=True)\n",
    "        causal_forest.fit(X_train[features], X_train['assignmt'], y_train)\n",
    "\n",
    "        # get treeExplainer\n",
    "        tE = _tree.TreeExplainer(causal_forest)\n",
    "\n",
    "        # run inner bootstrap\n",
    "        results_df[f\"Iteration_{j}\"] = inner_bootstrap(X_test[features], tE, n_iterations = n_inner)\n",
    "        end = time.time()\n",
    "        print(f\"Outer loop {j} took {end-start} seconds\")\n",
    "    return results_df"
   ]
  },
  {
   "cell_type": "code",
   "execution_count": 38,
   "metadata": {},
   "outputs": [
    {
     "name": "stderr",
     "output_type": "stream",
     "text": [
      "100%|██████████| 100/100 [10:44<00:00,  6.45s/it]\n"
     ]
    },
    {
     "name": "stdout",
     "output_type": "stream",
     "text": [
      "Outer loop 0 took 644.728954076767 seconds\n"
     ]
    },
    {
     "name": "stderr",
     "output_type": "stream",
     "text": [
      "100%|██████████| 100/100 [10:36<00:00,  6.37s/it]\n"
     ]
    },
    {
     "name": "stdout",
     "output_type": "stream",
     "text": [
      "Outer loop 1 took 637.0084977149963 seconds\n"
     ]
    },
    {
     "name": "stderr",
     "output_type": "stream",
     "text": [
      "100%|██████████| 100/100 [10:28<00:00,  6.29s/it]"
     ]
    },
    {
     "name": "stdout",
     "output_type": "stream",
     "text": [
      "Outer loop 2 took 628.8820810317993 seconds\n"
     ]
    },
    {
     "name": "stderr",
     "output_type": "stream",
     "text": [
      "\n"
     ]
    }
   ],
   "source": [
    "# main loop\n",
    "results = outer_loop(data, n_outer = 3, n_inner=100)"
   ]
  },
  {
   "cell_type": "code",
   "execution_count": 39,
   "metadata": {},
   "outputs": [
    {
     "data": {
      "text/html": [
       "<div>\n",
       "<style scoped>\n",
       "    .dataframe tbody tr th:only-of-type {\n",
       "        vertical-align: middle;\n",
       "    }\n",
       "\n",
       "    .dataframe tbody tr th {\n",
       "        vertical-align: top;\n",
       "    }\n",
       "\n",
       "    .dataframe thead th {\n",
       "        text-align: right;\n",
       "    }\n",
       "</style>\n",
       "<table border=\"1\" class=\"dataframe\">\n",
       "  <thead>\n",
       "    <tr style=\"text-align: right;\">\n",
       "      <th></th>\n",
       "      <th>Iteration_0</th>\n",
       "      <th>Iteration_1</th>\n",
       "      <th>Iteration_2</th>\n",
       "    </tr>\n",
       "  </thead>\n",
       "  <tbody>\n",
       "    <tr>\n",
       "      <th>0</th>\n",
       "      <td>0.180829</td>\n",
       "      <td>0.231527</td>\n",
       "      <td>0.219417</td>\n",
       "    </tr>\n",
       "    <tr>\n",
       "      <th>1</th>\n",
       "      <td>0.185755</td>\n",
       "      <td>0.219417</td>\n",
       "      <td>0.199302</td>\n",
       "    </tr>\n",
       "    <tr>\n",
       "      <th>2</th>\n",
       "      <td>0.182061</td>\n",
       "      <td>0.210796</td>\n",
       "      <td>0.209360</td>\n",
       "    </tr>\n",
       "    <tr>\n",
       "      <th>3</th>\n",
       "      <td>0.175287</td>\n",
       "      <td>0.218596</td>\n",
       "      <td>0.200944</td>\n",
       "    </tr>\n",
       "    <tr>\n",
       "      <th>4</th>\n",
       "      <td>0.184934</td>\n",
       "      <td>0.221675</td>\n",
       "      <td>0.210386</td>\n",
       "    </tr>\n",
       "    <tr>\n",
       "      <th>...</th>\n",
       "      <td>...</td>\n",
       "      <td>...</td>\n",
       "      <td>...</td>\n",
       "    </tr>\n",
       "    <tr>\n",
       "      <th>95</th>\n",
       "      <td>0.172414</td>\n",
       "      <td>0.232964</td>\n",
       "      <td>0.208949</td>\n",
       "    </tr>\n",
       "    <tr>\n",
       "      <th>96</th>\n",
       "      <td>0.181856</td>\n",
       "      <td>0.229680</td>\n",
       "      <td>0.209154</td>\n",
       "    </tr>\n",
       "    <tr>\n",
       "      <th>97</th>\n",
       "      <td>0.184524</td>\n",
       "      <td>0.222701</td>\n",
       "      <td>0.196839</td>\n",
       "    </tr>\n",
       "    <tr>\n",
       "      <th>98</th>\n",
       "      <td>0.187603</td>\n",
       "      <td>0.223727</td>\n",
       "      <td>0.207102</td>\n",
       "    </tr>\n",
       "    <tr>\n",
       "      <th>99</th>\n",
       "      <td>0.182266</td>\n",
       "      <td>0.228448</td>\n",
       "      <td>0.211207</td>\n",
       "    </tr>\n",
       "  </tbody>\n",
       "</table>\n",
       "<p>100 rows × 3 columns</p>\n",
       "</div>"
      ],
      "text/plain": [
       "    Iteration_0  Iteration_1  Iteration_2\n",
       "0      0.180829     0.231527     0.219417\n",
       "1      0.185755     0.219417     0.199302\n",
       "2      0.182061     0.210796     0.209360\n",
       "3      0.175287     0.218596     0.200944\n",
       "4      0.184934     0.221675     0.210386\n",
       "..          ...          ...          ...\n",
       "95     0.172414     0.232964     0.208949\n",
       "96     0.181856     0.229680     0.209154\n",
       "97     0.184524     0.222701     0.196839\n",
       "98     0.187603     0.223727     0.207102\n",
       "99     0.182266     0.228448     0.211207\n",
       "\n",
       "[100 rows x 3 columns]"
      ]
     },
     "execution_count": 39,
     "metadata": {},
     "output_type": "execute_result"
    }
   ],
   "source": [
    "results"
   ]
  },
  {
   "cell_type": "code",
   "execution_count": 40,
   "metadata": {},
   "outputs": [],
   "source": [
    "results.to_csv(\"bootstrap_results_age.csv\")"
   ]
  },
  {
   "cell_type": "markdown",
   "metadata": {},
   "source": [
    "### Analysis"
   ]
  },
  {
   "cell_type": "code",
   "execution_count": 41,
   "metadata": {},
   "outputs": [
    {
     "data": {
      "text/html": [
       "<div>\n",
       "<style scoped>\n",
       "    .dataframe tbody tr th:only-of-type {\n",
       "        vertical-align: middle;\n",
       "    }\n",
       "\n",
       "    .dataframe tbody tr th {\n",
       "        vertical-align: top;\n",
       "    }\n",
       "\n",
       "    .dataframe thead th {\n",
       "        text-align: right;\n",
       "    }\n",
       "</style>\n",
       "<table border=\"1\" class=\"dataframe\">\n",
       "  <thead>\n",
       "    <tr style=\"text-align: right;\">\n",
       "      <th></th>\n",
       "      <th>Iteration_0</th>\n",
       "      <th>Iteration_1</th>\n",
       "      <th>Iteration_2</th>\n",
       "    </tr>\n",
       "  </thead>\n",
       "  <tbody>\n",
       "    <tr>\n",
       "      <th>0.05</th>\n",
       "      <td>0.175267</td>\n",
       "      <td>0.217529</td>\n",
       "      <td>0.197229</td>\n",
       "    </tr>\n",
       "    <tr>\n",
       "      <th>0.50</th>\n",
       "      <td>0.182574</td>\n",
       "      <td>0.226704</td>\n",
       "      <td>0.208744</td>\n",
       "    </tr>\n",
       "    <tr>\n",
       "      <th>0.95</th>\n",
       "      <td>0.189901</td>\n",
       "      <td>0.236884</td>\n",
       "      <td>0.217426</td>\n",
       "    </tr>\n",
       "  </tbody>\n",
       "</table>\n",
       "</div>"
      ],
      "text/plain": [
       "      Iteration_0  Iteration_1  Iteration_2\n",
       "0.05     0.175267     0.217529     0.197229\n",
       "0.50     0.182574     0.226704     0.208744\n",
       "0.95     0.189901     0.236884     0.217426"
      ]
     },
     "execution_count": 41,
     "metadata": {},
     "output_type": "execute_result"
    }
   ],
   "source": [
    "# For each iteration, compute the Q5, Q50, Q95\n",
    "results.quantile([0.05, 0.5, 0.95], axis=0)"
   ]
  },
  {
   "cell_type": "code",
   "execution_count": 42,
   "metadata": {},
   "outputs": [
    {
     "data": {
      "text/plain": [
       "0.05    0.197229\n",
       "0.50    0.208744\n",
       "0.95    0.217426\n",
       "dtype: float64"
      ]
     },
     "execution_count": 42,
     "metadata": {},
     "output_type": "execute_result"
    }
   ],
   "source": [
    "# Now take the median across axis 1\n",
    "results.quantile([0.05, 0.5, 0.95], axis=0).median(axis=1)"
   ]
  },
  {
   "cell_type": "code",
   "execution_count": 46,
   "metadata": {},
   "outputs": [
    {
     "data": {
      "text/plain": [
       "(Iteration_0    0.182890\n",
       " Iteration_1    0.226531\n",
       " Iteration_2    0.207650\n",
       " dtype: float64,\n",
       " Iteration_0    0.000022\n",
       " Iteration_1    0.000037\n",
       " Iteration_2    0.000037\n",
       " dtype: float64)"
      ]
     },
     "execution_count": 46,
     "metadata": {},
     "output_type": "execute_result"
    }
   ],
   "source": [
    "results.mean(),results.var()"
   ]
  },
  {
   "cell_type": "code",
   "execution_count": 45,
   "metadata": {},
   "outputs": [
    {
     "data": {
      "text/plain": [
       "Iteration_0    39.310650\n",
       "Iteration_1    37.454464\n",
       "Iteration_2    33.995062\n",
       "dtype: float64"
      ]
     },
     "execution_count": 45,
     "metadata": {},
     "output_type": "execute_result"
    }
   ],
   "source": [
    "# get mean proportion over its standard error\n",
    "results.mean(axis=0)/results.std(axis=0)"
   ]
  },
  {
   "cell_type": "code",
   "execution_count": 74,
   "metadata": {},
   "outputs": [
    {
     "data": {
      "text/plain": [
       "(0.1, 0.5)"
      ]
     },
     "execution_count": 74,
     "metadata": {},
     "output_type": "execute_result"
    },
    {
     "data": {
      "image/png": "[encoded data removed]",
      "text/plain": [
       "<Figure size 640x480 with 1 Axes>"
      ]
     },
     "metadata": {},
     "output_type": "display_data"
    }
   ],
   "source": [
    "import seaborn as sns\n",
    "import matplotlib.pyplot as plt\n",
    "\n",
    "\n",
    "# print distribution of proportions by iteration\n",
    "sns.histplot(results, kde=True, bins = 30)\n",
    "plt.xlim(0.1,0.5)"
   ]
  },
  {
   "cell_type": "code",
   "execution_count": 79,
   "metadata": {},
   "outputs": [
    {
     "data": {
      "image/png": "[encoded data removed]",
      "text/plain": [
       "<Figure size 640x480 with 1 Axes>"
      ]
     },
     "metadata": {},
     "output_type": "display_data"
    }
   ],
   "source": [
    "# plot each bar with error bars\n",
    "sns.barplot(data=results, \n",
    "            errorbar=('pi', 95), \n",
    "            linewidth = 0.3, color = \"lightblue\",edgecolor=\"black\")\n",
    "plt.xlabel(\"Split\")\n",
    "plt.ylabel(\"Proportion\")\n",
    "plt.title(\"Proportion of participants for which 'age'\\n is the most contributing feature to the conditional ITT effect\")\n",
    "\n",
    "# save fig\n",
    "plt.savefig(\"bootstrap_age.pdf\", format = \"pdf\", dpi = 400)\n",
    "\n",
    "plt.show()"
   ]
  },
  {
   "cell_type": "code",
   "execution_count": null,
   "metadata": {},
   "outputs": [],
   "source": []
  }
 ],
 "metadata": {
  "kernelspec": {
   "display_name": "thesis",
   "language": "python",
   "name": "python3"
  },
  "language_info": {
   "codemirror_mode": {
    "name": "ipython",
    "version": 3
   },
   "file_extension": ".py",
   "mimetype": "text/x-python",
   "name": "python",
   "nbconvert_exporter": "python",
   "pygments_lexer": "ipython3",
   "version": "3.11.7"
  }
 },
 "nbformat": 4,
 "nbformat_minor": 2
}
